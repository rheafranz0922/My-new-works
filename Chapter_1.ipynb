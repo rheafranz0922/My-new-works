{
  "nbformat": 4,
  "nbformat_minor": 0,
  "metadata": {
    "colab": {
      "provenance": [],
      "collapsed_sections": [],
      "authorship_tag": "ABX9TyMRVwbafEtKGlwYeTv3W6BG",
      "include_colab_link": true
    },
    "kernelspec": {
      "name": "python3",
      "display_name": "Python 3"
    },
    "language_info": {
      "name": "python"
    }
  },
  "cells": [
    {
      "cell_type": "markdown",
      "metadata": {
        "id": "view-in-github",
        "colab_type": "text"
      },
      "source": [
        "<a href=\"https://colab.research.google.com/github/rheafranz0922/My-new-works/blob/main/Chapter_1.ipynb\" target=\"_parent\"><img src=\"https://colab.research.google.com/assets/colab-badge.svg\" alt=\"Open In Colab\"/></a>"
      ]
    },
    {
      "cell_type": "markdown",
      "source": [
        "Excercise 1: Write a Python program to print the following string in a specific format.\n",
        "\n",
        "Twinkle, twinkle, little star, How I wonder what you are! Up above the world so high, Like a diamond in the sky. Twinkle, twinkle, little star, How I wonder what you are"
      ],
      "metadata": {
        "id": "BY87OwR9Fy6N"
      }
    },
    {
      "cell_type": "code",
      "source": [
        "#  learning the Twinkle Twinkle little star song\n",
        "print('Twinkle, twinkle, little star') \n",
        "print('How I wonder what you are! Up above the world so high,')\n",
        "print('Like a diamond in the sky')\n",
        "print('Twinkle, twinkle, little star')\n",
        "print('How I wonder what you are')"
      ],
      "metadata": {
        "colab": {
          "base_uri": "https://localhost:8080/"
        },
        "id": "S42NwOWhF-5-",
        "outputId": "ab7533f7-dfc9-4c52-d555-910611247a6f"
      },
      "execution_count": null,
      "outputs": [
        {
          "output_type": "stream",
          "name": "stdout",
          "text": [
            "Twinkle, twinkle, little star\n",
            "How I wonder what you are! Up above the world so high,\n",
            "Like a diamond in the sky\n",
            "Twinkle, twinkle, little star\n",
            "How I wonder what you are\n"
          ]
        }
      ]
    },
    {
      "cell_type": "markdown",
      "source": [
        "Exercise 2: Print the Version of Python\n",
        "\n",
        "Write a Python program to get the Python version you are using.\n"
      ],
      "metadata": {
        "id": "GMK-BC2nG3VB"
      }
    },
    {
      "cell_type": "code",
      "source": [
        " # Python program to print the version information\n",
        "import sys\n",
        "\n",
        "# printing version info\n",
        "print (\"Python version\")\n",
        "print(sys.version)\n",
        "\n",
        "print (\"Version info.\")\n",
        "print(sys.version_info)"
      ],
      "metadata": {
        "colab": {
          "base_uri": "https://localhost:8080/"
        },
        "id": "4LmY76jYHKGV",
        "outputId": "f3096f3e-e89a-47c0-f231-134960d67c87"
      },
      "execution_count": null,
      "outputs": [
        {
          "output_type": "stream",
          "name": "stdout",
          "text": [
            "Python version\n",
            "3.7.15 (default, Oct 12 2022, 19:14:55) \n",
            "[GCC 7.5.0]\n",
            "Version info.\n",
            "sys.version_info(major=3, minor=7, micro=15, releaselevel='final', serial=0)\n"
          ]
        }
      ]
    },
    {
      "cell_type": "markdown",
      "source": [
        "Excercise 3: Print date and Time\n",
        "\n",
        "Write a Python program to display the current date and time."
      ],
      "metadata": {
        "id": "RWlWiuwiH-vr"
      }
    },
    {
      "cell_type": "code",
      "source": [
        "# Current date and time\n",
        "import datetime\n",
        "now = datetime.datetime.now()\n",
        "print(\"Current date and time\")\n",
        "print(now.strftime(\"%Y-%m-%d %H:%M:%S\"))"
      ],
      "metadata": {
        "colab": {
          "base_uri": "https://localhost:8080/"
        },
        "id": "pZqa5o6mIMVt",
        "outputId": "9cae7a32-1ff9-4e13-cf91-3dc019ddf428"
      },
      "execution_count": null,
      "outputs": [
        {
          "output_type": "stream",
          "name": "stdout",
          "text": [
            "Current date and time\n",
            "2022-11-04 20:11:55\n"
          ]
        }
      ]
    },
    {
      "cell_type": "markdown",
      "source": [
        "Excercise 4: Strings Concatination\n",
        "\n",
        "Write three strings in different variables and print the output as one string."
      ],
      "metadata": {
        "id": "RKwAUDMMJbLM"
      }
    },
    {
      "cell_type": "code",
      "source": [
        "# If the three are a,b, and c\n",
        "a,b,c = 250, 300, 420\n",
        "print(a) # 250\n",
        "print(b) # 300\n",
        "print(c) # 420"
      ],
      "metadata": {
        "colab": {
          "base_uri": "https://localhost:8080/"
        },
        "id": "vK2Q-XSWJ5Xf",
        "outputId": "616745cb-a060-4f2e-d287-4048023f70b4"
      },
      "execution_count": null,
      "outputs": [
        {
          "output_type": "stream",
          "name": "stdout",
          "text": [
            "250\n",
            "300\n",
            "420\n"
          ]
        }
      ]
    },
    {
      "cell_type": "markdown",
      "source": [
        "Excercise 5: Compute area of Circle\n",
        "\n",
        "Write a Python program which accepts the radius of a circle from the user and compute the area."
      ],
      "metadata": {
        "id": "q3QvQJruKlop"
      }
    },
    {
      "cell_type": "code",
      "source": [
        "# user can input any number as a radius.\n",
        "from math import pi\n",
        "r = int(input(\"input the radius of the circle:\"))\n",
        "print(\"The area of the circle with the radius of the circle with radius\"+ str(r) + \"is:\" + str(pi * r**2))"
      ],
      "metadata": {
        "colab": {
          "base_uri": "https://localhost:8080/"
        },
        "id": "6OgILFFsLD5a",
        "outputId": "66f13cd9-543b-40cb-8037-90c2ef41daa7"
      },
      "execution_count": null,
      "outputs": [
        {
          "output_type": "stream",
          "name": "stdout",
          "text": [
            "input the radius of the circle:44\n",
            "The area of the circle with the radius of the circle with radius44is:6082.12337734984\n"
          ]
        }
      ]
    }
  ]
}