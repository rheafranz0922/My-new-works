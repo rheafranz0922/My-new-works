{
  "nbformat": 4,
  "nbformat_minor": 0,
  "metadata": {
    "colab": {
      "provenance": [],
      "collapsed_sections": [],
      "authorship_tag": "ABX9TyMwqkOSAzGRgSxJnSQy/3jP",
      "include_colab_link": true
    },
    "kernelspec": {
      "name": "python3",
      "display_name": "Python 3"
    },
    "language_info": {
      "name": "python"
    }
  },
  "cells": [
    {
      "cell_type": "markdown",
      "metadata": {
        "id": "view-in-github",
        "colab_type": "text"
      },
      "source": [
        "<a href=\"https://colab.research.google.com/github/rheafranz0922/My-new-works/blob/main/chapter_7.ipynb\" target=\"_parent\"><img src=\"https://colab.research.google.com/assets/colab-badge.svg\" alt=\"Open In Colab\"/></a>"
      ]
    },
    {
      "cell_type": "markdown",
      "source": [
        "Exercise 1:   Message \n",
        "\n",
        "Write a function called display_message() that prints one sentence telling everyone what you are learning about in this chapter. Call the\n",
        "function, and make sure the message displays correctly."
      ],
      "metadata": {
        "id": "mKr1skDLdB2a"
      }
    },
    {
      "cell_type": "code",
      "source": [
        "# Display_message() that print one sentence for everyone to learned about this chapter.\n",
        "def display_message():\n",
        "    \"\"\"Display a message about what I'm learning.\"\"\"\n",
        "    msg = \"I'm learning the store code in functions.\"\n",
        "    print(msg)\n",
        "\n",
        "display_message()"
      ],
      "metadata": {
        "colab": {
          "base_uri": "https://localhost:8080/"
        },
        "id": "_dUZTeUHdLwC",
        "outputId": "5df88c2c-2b01-49e1-ab97-eabc7806c3de"
      },
      "execution_count": null,
      "outputs": [
        {
          "output_type": "stream",
          "name": "stdout",
          "text": [
            "I'm learning the store code in functions.\n"
          ]
        }
      ]
    },
    {
      "cell_type": "markdown",
      "source": [
        "Exercise 2: Favorite Book\n",
        "Write a function called favorite_book() that accepts one parameter, title. The function should print a message, such as One of my\n",
        "favorite books is Alice in Wonderland. Call the function, making sure to include a book title as an argument in the function call.\n"
      ],
      "metadata": {
        "id": "O9SOFTmnki4q"
      }
    },
    {
      "cell_type": "code",
      "source": [
        "# This is my favorite book even when i was a child.\n",
        "def favorite_book(title):\n",
        "    \"\"\"Display a message about someone's favorite book.\"\"\"\n",
        "    print(title + \" is one of my favorite books.\")\n",
        "\n",
        "favorite_book('The red riding hood')"
      ],
      "metadata": {
        "colab": {
          "base_uri": "https://localhost:8080/"
        },
        "id": "QnMunFPglz70",
        "outputId": "cfba7273-192d-4724-8370-1bf946351986"
      },
      "execution_count": null,
      "outputs": [
        {
          "output_type": "stream",
          "name": "stdout",
          "text": [
            "The red riding hood is one of my favorite books.\n"
          ]
        }
      ]
    },
    {
      "cell_type": "markdown",
      "source": [
        "Exercise 3: T-Shirt \n",
        "\n",
        "Write a function called make_shirt() that accepts a size and the text of a message that should be printed on the shirt. The function \n",
        "should print a sentence summarizing the size of the shirt and the message printed on it. Call the function once using positional \n",
        "arguments to make a shirt. Call the function a second time using keyword arguments."
      ],
      "metadata": {
        "id": "Dt4jJ-KumM8N"
      }
    },
    {
      "cell_type": "code",
      "source": [
        "# Making the T-shirt to accepts size and the text of a messge that should print the T- shirt.\n",
        "def make_shirt(size, message):\n",
        "    \"\"\"Summarize the shirt that's going to be made.\"\"\"\n",
        "    print(\"\\nI am going to make a \" + size + \" t-shirt.\")\n",
        "    print('It will say, \"' + message + '\"')\n",
        "\n",
        "make_shirt('large', 'I love happy ending')\n",
        "make_shirt(message=\"Hearts.\", size='36 size of medium')"
      ],
      "metadata": {
        "colab": {
          "base_uri": "https://localhost:8080/"
        },
        "id": "vP-ROqILmbx2",
        "outputId": "ed3daf3d-c814-495e-a7ee-5a862bfd00c3"
      },
      "execution_count": null,
      "outputs": [
        {
          "output_type": "stream",
          "name": "stdout",
          "text": [
            "\n",
            "I am going to make a large t-shirt.\n",
            "It will say, \"I love happy ending\"\n",
            "\n",
            "I am going to make a 36 size of medium t-shirt.\n",
            "It will say, \"Hearts.\"\n"
          ]
        }
      ]
    },
    {
      "cell_type": "markdown",
      "source": [
        "Exercise 4:  Large Shirts \n",
        "\n",
        "Modify the make_shirt() function so that shirts are large by default with a message that reads I love Python. Make a large shirt and a\n",
        "medium shirt with the default message, and a shirt of any size with a different message."
      ],
      "metadata": {
        "id": "w-MmsGDPoAvL"
      }
    },
    {
      "cell_type": "code",
      "source": [
        "# Making a large shirts of any size but different message.\n",
        "def make_shirt(size='large', message='I love Python!'):\n",
        "    \"\"\"Summarize the shirt that's going to be made.\"\"\"\n",
        "    print(\"\\nI'm going to make a \" + size + \" t-shirt.\")\n",
        "    print('It will say, \"' + message + '\"')\n",
        "\n",
        "make_shirt()\n",
        "make_shirt(size='medium')\n",
        "make_shirt('small', 'Programmers is my bestfriends.')"
      ],
      "metadata": {
        "colab": {
          "base_uri": "https://localhost:8080/"
        },
        "id": "AxvP7O6ioV5x",
        "outputId": "654204b4-4f1f-4781-99ff-cdd344a13b51"
      },
      "execution_count": null,
      "outputs": [
        {
          "output_type": "stream",
          "name": "stdout",
          "text": [
            "\n",
            "I'm going to make a large t-shirt.\n",
            "It will say, \"I love Python!\"\n",
            "\n",
            "I'm going to make a medium t-shirt.\n",
            "It will say, \"I love Python!\"\n",
            "\n",
            "I'm going to make a small t-shirt.\n",
            "It will say, \"Programmers is my bestfriends.\"\n"
          ]
        }
      ]
    },
    {
      "cell_type": "markdown",
      "source": [
        "Exercise 5: Cities\n",
        "\n",
        "Write a function called describe_city() that accepts the name of a city and its country. The function should print a simple sentence, \n",
        "such as Reykjavik is in Iceland. Give the parameter for the country a default value.\n",
        "Call your function for three different cities, at least one of which is not in the default country."
      ],
      "metadata": {
        "id": "siol3j76pndf"
      }
    },
    {
      "cell_type": "code",
      "source": [
        "# Here the cities that accepts the name of the city and the country\n",
        "def describe_city(city, country='korea'):\n",
        "    \"\"\"Describe a city.\"\"\"\n",
        "    msg = city.title() + \" is in \" + country.title() + \".\"\n",
        "    print(msg)\n",
        "# here the name of the city and the country's.\n",
        "describe_city('seoul')\n",
        "describe_city('reykjavik', 'iceland')\n",
        "describe_city('manila', 'philippine')"
      ],
      "metadata": {
        "colab": {
          "base_uri": "https://localhost:8080/"
        },
        "id": "EgbadqZipu0n",
        "outputId": "04b9437a-cf79-4e30-a10a-69fb2d03310d"
      },
      "execution_count": null,
      "outputs": [
        {
          "output_type": "stream",
          "name": "stdout",
          "text": [
            "Seoul is in Korea.\n",
            "Reykjavik is in Iceland.\n",
            "Manila is in Philippine.\n"
          ]
        }
      ]
    }
  ]
}