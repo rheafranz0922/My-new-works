{
  "nbformat": 4,
  "nbformat_minor": 0,
  "metadata": {
    "colab": {
      "provenance": [],
      "collapsed_sections": [],
      "authorship_tag": "ABX9TyPRJLTJPTjvRFj7nEJPzsQq",
      "include_colab_link": true
    },
    "kernelspec": {
      "name": "python3",
      "display_name": "Python 3"
    },
    "language_info": {
      "name": "python"
    }
  },
  "cells": [
    {
      "cell_type": "markdown",
      "metadata": {
        "id": "view-in-github",
        "colab_type": "text"
      },
      "source": [
        "<a href=\"https://colab.research.google.com/github/rheafranz0922/My-new-works/blob/main/Chapter_2.ipynb\" target=\"_parent\"><img src=\"https://colab.research.google.com/assets/colab-badge.svg\" alt=\"Open In Colab\"/></a>"
      ]
    },
    {
      "cell_type": "markdown",
      "source": [
        "Exercise 1: Variables\n",
        "\n",
        "Type out the code below and add the correct data types to complete the variables\n",
        "\n",
        "Assign a message to a variable, and print that message.\n",
        "Then change the value of the variable to a new message, and print the new"
      ],
      "metadata": {
        "id": "HWbobCeVMr7Z"
      }
    },
    {
      "cell_type": "code",
      "source": [
        "# Message to a variable\n",
        "msg = \"I love  learning program subject\"\n",
        "print(msg)\n",
        "\n",
        "msg = \"It's really good\"\n",
        "print(msg)"
      ],
      "metadata": {
        "colab": {
          "base_uri": "https://localhost:8080/"
        },
        "id": "gxp2RSBIOGJz",
        "outputId": "a8f1ac5a-7c62-4a8a-f770-84c39ed2604e"
      },
      "execution_count": 1,
      "outputs": [
        {
          "output_type": "stream",
          "name": "stdout",
          "text": [
            "I love  learning program subject\n",
            "It's really good\n"
          ]
        }
      ]
    },
    {
      "cell_type": "markdown",
      "source": [
        "Excercise 2: Variables\n",
        "\n",
        "Find a quote from a famous person you admire. Print the quote and the name of its author. \n",
        "Your output should look something like the following, including the quotation marks:\n",
        "Albert Einstein once said, “A person who never made a mistake never tried anything new."
      ],
      "metadata": {
        "id": "mLlEjEarQpUA"
      }
    },
    {
      "cell_type": "code",
      "source": [
        "# Finding quote from the famous person you admire.\n",
        "print('Albert Einstein once said, \"A person who never made a mistake')\n",
        "print('never tried anything new.')"
      ],
      "metadata": {
        "colab": {
          "base_uri": "https://localhost:8080/"
        },
        "id": "Z3L4vWnQQ20-",
        "outputId": "bc79b477-bbb6-47f1-d364-3fd8db2c6363"
      },
      "execution_count": 2,
      "outputs": [
        {
          "output_type": "stream",
          "name": "stdout",
          "text": [
            "Albert Einstein once said, \"A person who never made a mistake\n",
            "never tried anything new.\n"
          ]
        }
      ]
    },
    {
      "cell_type": "markdown",
      "source": [
        "Excercise 3: Stripping Names\n",
        "Tidy up the code to make it easier to understand"
      ],
      "metadata": {
        "id": "brFXArVpSAbU"
      }
    },
    {
      "cell_type": "code",
      "source": [
        "# Stripping names.\n",
        "name = \"\\tRhea Franz\\n\"\n",
        "print(\"Unmodified:\")\n",
        "print(name)\n",
        "\n",
        "print(\"\\nUsing lstrip():\")\n",
        "print(name.lstrip())\n",
        "\n",
        "print(\"\\nUsing rstrip():\")\n",
        "print(name.rstrip())\n",
        "\n",
        "print(\"\\nUsing strip():\")\n",
        "print(name.strip())"
      ],
      "metadata": {
        "colab": {
          "base_uri": "https://localhost:8080/"
        },
        "id": "Caq24jcoS3zq",
        "outputId": "2fe95651-66dd-470e-9379-8a71ea77cc7a"
      },
      "execution_count": 3,
      "outputs": [
        {
          "output_type": "stream",
          "name": "stdout",
          "text": [
            "Unmodified:\n",
            "\tRhea Franz\n",
            "\n",
            "\n",
            "Using lstrip():\n",
            "Rhea Franz\n",
            "\n",
            "\n",
            "Using rstrip():\n",
            "\tRhea Franz\n",
            "\n",
            "Using strip():\n",
            "Rhea Franz\n"
          ]
        }
      ]
    },
    {
      "cell_type": "markdown",
      "source": [
        "Exercise 4: Favorite Number\n",
        "\n",
        "Use a variable to represent your favorite number. Then,using that variable, create a message that reveals your favorite number. Print\n",
        "that message."
      ],
      "metadata": {
        "id": "Mf7HHtvMUkLQ"
      }
    },
    {
      "cell_type": "code",
      "source": [
        "# Using variable and creating a message by using your favorite number.\n",
        "fav_num = 7\n",
        "msg = f\"My favorite number is {fav_num}.\"\n",
        "\n",
        "print(msg)"
      ],
      "metadata": {
        "colab": {
          "base_uri": "https://localhost:8080/"
        },
        "id": "uSgPWE8zVFqk",
        "outputId": "8e105b71-6b81-44eb-fcd2-b69794f421a9"
      },
      "execution_count": 5,
      "outputs": [
        {
          "output_type": "stream",
          "name": "stdout",
          "text": [
            "My favorite number is 7.\n"
          ]
        }
      ]
    },
    {
      "cell_type": "markdown",
      "source": [
        "Excercise 5: USB Shopper \n",
        "\n",
        "A girl heads to a computer shop to buy some USB sticks. She loves USB sticks and wants as many as she can get for £50. They are £6 each.\n",
        "Write a programme that calculates how many USB sticks she can buy and how many pounds she will have left.\n",
        "You will to use the arithmetic operators to complete this exercise.\n"
      ],
      "metadata": {
        "id": "MKTvVygUV62D"
      }
    },
    {
      "cell_type": "code",
      "source": [
        "# Buying usb sticks.\n",
        "m = 50\n",
        "ip = 6\n",
        "\n",
        "amount = int(m)/int(ip)\n",
        "cost = int(amount)*int(ip)\n",
        "change = int(m)-int(cost)\n",
        "\n",
        "print(\"the amount of items you can buy is\",int(amount))\n",
        "print(\"your leftover change is\", int(change))"
      ],
      "metadata": {
        "colab": {
          "base_uri": "https://localhost:8080/"
        },
        "id": "vHdekmvDWFSx",
        "outputId": "eaf78200-97de-4ba8-c2ae-942d5fdf2006"
      },
      "execution_count": 4,
      "outputs": [
        {
          "output_type": "stream",
          "name": "stdout",
          "text": [
            "the amount of items you can buy is 8\n",
            "your leftover change is 2\n"
          ]
        }
      ]
    }
  ]
}