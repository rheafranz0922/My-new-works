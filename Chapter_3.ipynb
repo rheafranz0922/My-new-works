{
  "nbformat": 4,
  "nbformat_minor": 0,
  "metadata": {
    "colab": {
      "provenance": [],
      "collapsed_sections": [],
      "authorship_tag": "ABX9TyP7xM5tNz5Gls4SHuQIM7IV",
      "include_colab_link": true
    },
    "kernelspec": {
      "name": "python3",
      "display_name": "Python 3"
    },
    "language_info": {
      "name": "python"
    }
  },
  "cells": [
    {
      "cell_type": "markdown",
      "metadata": {
        "id": "view-in-github",
        "colab_type": "text"
      },
      "source": [
        "<a href=\"https://colab.research.google.com/github/rheafranz0922/My-new-works/blob/main/Chapter_3.ipynb\" target=\"_parent\"><img src=\"https://colab.research.google.com/assets/colab-badge.svg\" alt=\"Open In Colab\"/></a>"
      ]
    },
    {
      "cell_type": "markdown",
      "source": [
        " Exercise 1: Names\n",
        "\n",
        " Store the names of a few of your friends in a list called names. Print each person’s name by accessing each element in the list, one at a time."
      ],
      "metadata": {
        "id": "ycQQMkaI1OTw"
      }
    },
    {
      "cell_type": "code",
      "source": [
        "# Namelist of My friends.\n",
        "names = ('Kyla','Am', 'Chi-chi')\n",
        "print(names[0])\n",
        "print(names[1])\n",
        "print(names[2])"
      ],
      "metadata": {
        "colab": {
          "base_uri": "https://localhost:8080/"
        },
        "id": "nFxPnS7I1mit",
        "outputId": "71c6a241-bd56-4e01-92db-3fa974f3b3a7"
      },
      "execution_count": 1,
      "outputs": [
        {
          "output_type": "stream",
          "name": "stdout",
          "text": [
            "Kyla\n",
            "Am\n",
            "Chi-chi\n"
          ]
        }
      ]
    },
    {
      "cell_type": "markdown",
      "source": [
        " Exercise 2: Greetings\n",
        " Start with the list you used in Exercise 1, but instead of just\n",
        "\n",
        "printing each person’s name, print a message to them. The text of each message should be the same, but each message should be \n",
        "\n",
        "personalized with the person’s name.\n"
      ],
      "metadata": {
        "id": "_LgZbMgh3LPj"
      }
    },
    {
      "cell_type": "code",
      "source": [
        "# Greetings! message for my friends.\n",
        "names = ('Kyla','Am', 'Chi-chi')\n",
        "msg = \"Hello, \" + names[0].title() + \"!\"\n",
        "print(msg)\n",
        "\n",
        "msg = \"How are you, \" + names[1].title() + \"!\"\n",
        "print(msg)\n",
        "\n",
        "msg = \"Hi, \" + names[2].title() + \"!\"\n",
        "print(msg)"
      ],
      "metadata": {
        "colab": {
          "base_uri": "https://localhost:8080/"
        },
        "id": "UaYJxUr63p8V",
        "outputId": "30db99d4-4ee3-4f17-844b-1adb3f7f9c3b"
      },
      "execution_count": 2,
      "outputs": [
        {
          "output_type": "stream",
          "name": "stdout",
          "text": [
            "Hello, Kyla!\n",
            "How are you, Am!\n",
            "Hi, Chi-Chi!\n"
          ]
        }
      ]
    },
    {
      "cell_type": "markdown",
      "source": [
        "Exercise 3: Your Own List\n",
        "\n",
        "Think of your favorite mode of transportation, such as a motorcycle or a car, and make a list that stores several examples. Use your list\n",
        "\n",
        "to print a series of statements about these items, such as “I would like to own a Honda motorcycle.”\n"
      ],
      "metadata": {
        "id": "tLpxReeM4EwV"
      }
    },
    {
      "cell_type": "code",
      "source": [
        "# My favorite mode of transportation.\n",
        "modes_of_transportation = ['motorcycle', 'airplane', 'yacht']\n",
        "print(\"I would like to ride the motorcycle\" + modes_of_transportation[0])\n",
        "print(\"I am so excited going airplane for vacation\" + modes_of_transportation[1])\n",
        "print(\"I want to have own yacht\" + modes_of_transportation[2])"
      ],
      "metadata": {
        "colab": {
          "base_uri": "https://localhost:8080/"
        },
        "id": "qSimKIMh4T0q",
        "outputId": "96f89af6-8826-4f30-e2ae-ccd4e26d87f4"
      },
      "execution_count": 3,
      "outputs": [
        {
          "output_type": "stream",
          "name": "stdout",
          "text": [
            "I would like to ride the motorcyclemotorcycle\n",
            "I am so excited going airplane for vacationairplane\n",
            "I want to have own yachtyacht\n"
          ]
        }
      ]
    },
    {
      "cell_type": "markdown",
      "source": [
        "Exercise 4: Guest List\n",
        "\n",
        "If you could invite anyone, living or deceased, to dinner, who would you invite? Make a list that includes at least three people you’d\n",
        "\n",
        "like to invite to dinner. Then use your list to print a message to each person, invitingthem to dinner."
      ],
      "metadata": {
        "id": "sc2yW0Ha6pC9"
      }
    },
    {
      "cell_type": "code",
      "source": [
        "# Guest list to invite my friends to a dinner.\n",
        "guests = ['Matt-Matt', 'Grace', 'Mica']\n",
        "\n",
        "name = guests[0].title()\n",
        "print(name + \", please come to dinner.\")\n",
        "\n",
        "name = guests[1].title()\n",
        "print(name + \", please come to dinner.\")\n",
        "\n",
        "name = guests[2].title()\n",
        "print(name + \", please come to dinner.\")"
      ],
      "metadata": {
        "colab": {
          "base_uri": "https://localhost:8080/"
        },
        "id": "EQneae7x6zB5",
        "outputId": "e202984b-6536-4cab-fdac-598ddd09ba7b"
      },
      "execution_count": 4,
      "outputs": [
        {
          "output_type": "stream",
          "name": "stdout",
          "text": [
            "Matt-Matt, please come to dinner.\n",
            "Grace, please come to dinner.\n",
            "Mica, please come to dinner.\n"
          ]
        }
      ]
    },
    {
      "cell_type": "markdown",
      "source": [
        "Exercise 5: Change Guest List\n",
        "\n",
        "You just heard that one of your guests can’t make the\n",
        "dinner, so you need to send out a new set of invitations. You’ll have to think of\n",
        "someone else to invite.\n",
        "\n",
        "•Start with your program from Exercise 3-4. Add a print() call at the end of your program stating the name of the guest who can’t make it.\n",
        "\n",
        "•Modify your list, replacing the name of the guest who can’t make it with the name of the new person you are inviting.\n",
        "\n",
        "•Print a second set of invitation messages, one for each person who is still in your list.\n"
      ],
      "metadata": {
        "id": "vaEl_yPa7pTP"
      }
    },
    {
      "cell_type": "code",
      "source": [
        "# Invite some people to dinner\n",
        "guest = ['Matt-Matt', 'Grace', 'Mica']\n",
        "\n",
        "name = guests[0].title()\n",
        "print(name + \", please come to dinner.\")\n",
        "\n",
        "name = guests[1].title()\n",
        "print(name + \", please come to dinner.\")\n",
        "\n",
        "name = guests[2].title()\n",
        "print(name + \", please come to dinner.\")\n",
        "\n",
        "name = guests[1].title()\n",
        "print(\"\\nSorry, \" + name + \" can't make it to dinner cause i have family problem.\")\n",
        "\n",
        "# Matt-matt can't make it! Let's invite Trisha instead.\n",
        "del(guests[1])\n",
        "guests.insert(1, 'Trisha')\n",
        "\n",
        "# Print the invitations again.\n",
        "name = guests[0].title()\n",
        "print(\"\\n\" + name + \", please come to dinner.\")\n",
        "\n",
        "name = guests[1].title()\n",
        "print(\"\\n\" + name + \", please come to dinner.\")\n",
        "\n",
        "name = guests[2].title()\n",
        "print(\"\\n\" + name + \", please come to dinner.\")"
      ],
      "metadata": {
        "colab": {
          "base_uri": "https://localhost:8080/"
        },
        "id": "XILjNkdc7wWL",
        "outputId": "b60761ba-93d9-4014-9cf8-88c2d59d8db3"
      },
      "execution_count": null,
      "outputs": [
        {
          "output_type": "stream",
          "name": "stdout",
          "text": [
            "Matt-Matt, please come to dinner.\n",
            "Trisha, please come to dinner.\n",
            "Mica, please come to dinner.\n",
            "\n",
            "Sorry, Trisha can't make it to dinner cause i have family problem.\n",
            "\n",
            "Matt-Matt, please come to dinner.\n",
            "\n",
            "Trisha, please come to dinner.\n",
            "\n",
            "Mica, please come to dinner.\n"
          ]
        }
      ]
    },
    {
      "cell_type": "markdown",
      "source": [
        "Exercise 6: Shrinking Guest List \n",
        "\n",
        "ou just found out that your new dinner table won’t arrive in time for the dinner, and you have space for only two guests.\n",
        "\n",
        "•Start with your program from Exercise 3-5. Add a new line that prints a message saying that you can invite only two people for dinner.\n",
        "\n",
        "•Use pop() to remove guests from your list one at a time until only two names remain in your list. Each time you pop a name from your list, print a message to that person letting them know you’re sorry you can’t invite them to dinner.\n",
        "\n",
        "•Print a message to each of the two people still on your list, letting them know they’re still invited.\n",
        "\n",
        "•Use del to remove the last two names from your list, so you have an empty list. Print your list to make sure you actually have an empty list at the end of your program."
      ],
      "metadata": {
        "id": "M4_IoPwI9xzZ"
      }
    },
    {
      "cell_type": "code",
      "source": [
        "# Invite some people to dinner.\n",
        "guests = ['Matt-Matt', 'Grace', 'Mica']\n",
        "\n",
        "name = guests[0].title()\n",
        "print(name + \", please come to dinner.\")\n",
        "\n",
        "name = guests[1].title()\n",
        "print(name + \", please come to dinner.\")\n",
        "\n",
        "name = guests[2].title()\n",
        "print(name + \", please come to dinner.\")\n",
        "\n",
        "name = guests[1].title()\n",
        "print(\"\\nSorry, \" + name + \" can't make it to dinner cause i have family problem.\")\n",
        "\n",
        "# Matt-matt can't make it! Let's invite Trisha instead.\n",
        "del(guests[1])\n",
        "guests.insert(1, 'Trisha')\n",
        "\n",
        "# Print the invitations again.\n",
        "name = guests[0].title()\n",
        "print(\"\\n\" + name + \", please come to dinner.\")\n",
        "\n",
        "name = guests[1].title()\n",
        "print(\"\\n\" + name + \", please come to dinner.\")\n",
        "\n",
        "name = guests[2].title()\n",
        "print(\"\\n\" + name + \", please come to dinner.\")\n",
        "\n",
        "# We got a bigger table, so let's add some more people to the list.\n",
        "print(\"\\nWe got a bigger table!\")\n",
        "guests.insert(0, 'Chito')\n",
        "guests.insert(2, 'Chi-Chi')\n",
        "guests.append('Kyla')\n",
        "\n",
        "name = guests[0].title()\n",
        "print(name + \", please come to dinner.\")\n",
        "\n",
        "name = guests[1].title()\n",
        "print(name + \", please come to dinner.\")\n",
        "\n",
        "name = guests[2].title()\n",
        "print(name + \", please come to dinner.\")\n",
        "\n",
        "name = guests[3].title()\n",
        "print(name + \", please come to dinner.\")\n",
        "\n",
        "name = guests[4].title()\n",
        "print(name + \", please come to dinner.\")\n",
        "\n",
        "name = guests[5].title()\n",
        "print(name + \", please come to dinner.\")\n",
        "\n",
        "# Oh no, the table won't arrive on time!\n",
        "print(\"\\nSorry, we can only invite two people to dinner.\")\n",
        "\n",
        "name = guests.pop()\n",
        "print(\"Sorry, \" + name.title() + \" there's no room at the table.\")\n",
        "\n",
        "name = guests.pop()\n",
        "print(\"Sorry, \" + name.title() + \" there's no room at the table.\")\n",
        "\n",
        "name = guests.pop()\n",
        "print(\"Sorry, \" + name.title() + \" there's no room at the table.\")\n",
        "\n",
        "name = guests.pop()\n",
        "print(\"Sorry, \" + name.title() + \" there's no room at the table.\")\n",
        "\n",
        "# There should be two people left. Let's invite them.\n",
        "name = guests[0].title()\n",
        "print(name + \", please come to dinner.\")\n",
        "\n",
        "name = guests[1].title()\n",
        "print(name + \", please come to dinner.\")\n",
        "\n",
        "# Empty out the list.\n",
        "del(guests[0])\n",
        "del(guests[0])\n",
        "\n",
        "# Prove the list is empty.\n",
        "print(guests)"
      ],
      "metadata": {
        "colab": {
          "base_uri": "https://localhost:8080/"
        },
        "id": "oqujV3KA-Fcx",
        "outputId": "456ed95d-157d-445d-9ee7-afc05889b6dc"
      },
      "execution_count": null,
      "outputs": [
        {
          "output_type": "stream",
          "name": "stdout",
          "text": [
            "Matt-Matt, please come to dinner.\n",
            "Grace, please come to dinner.\n",
            "Mica, please come to dinner.\n",
            "\n",
            "Sorry, Grace can't make it to dinner cause i have family problem.\n",
            "\n",
            "Matt-Matt, please come to dinner.\n",
            "\n",
            "Trisha, please come to dinner.\n",
            "\n",
            "Mica, please come to dinner.\n",
            "\n",
            "We got a bigger table!\n",
            "Chito, please come to dinner.\n",
            "Matt-Matt, please come to dinner.\n",
            "Chi-Chi, please come to dinner.\n",
            "Trisha, please come to dinner.\n",
            "Mica, please come to dinner.\n",
            "Kyla, please come to dinner.\n",
            "\n",
            "Sorry, we can only invite two people to dinner.\n",
            "Sorry, Kyla there's no room at the table.\n",
            "Sorry, Mica there's no room at the table.\n",
            "Sorry, Trisha there's no room at the table.\n",
            "Sorry, Chi-Chi there's no room at the table.\n",
            "Chito, please come to dinner.\n",
            "Matt-Matt, please come to dinner.\n",
            "[]\n"
          ]
        }
      ]
    },
    {
      "cell_type": "markdown",
      "source": [
        " Exercise 7: Seeing the World :ballot_box_with_check:\n",
        "\n",
        "Think of at least five places in the world you’d like to visit.\n",
        "•\t Store the locations in a list. Make sure the list is not in alphabetical order.\n"
      ],
      "metadata": {
        "id": "MCRS44lxBQ9k"
      }
    },
    {
      "cell_type": "code",
      "source": [
        "# This is my least five places in the world you'd like to visit country.\n",
        "locations = ['Korea', 'Japan', 'New Zealand', 'Australia', 'Sweden']\n",
        "\n",
        "print(\"Original order:\")\n",
        "print(locations)\n",
        "\n",
        "print(\"\\nAlphabetical:\")\n",
        "print(sorted(locations))\n",
        "\n",
        "print(\"\\nOriginal order:\")\n",
        "print(locations)\n",
        "\n",
        "print(\"\\nReverse alphabetical:\")\n",
        "print(sorted(locations, reverse=True))\n",
        "\n",
        "print(\"\\nOriginal order:\")\n",
        "print(locations)\n",
        "\n",
        "print(\"\\nReversed:\")\n",
        "locations.reverse()\n",
        "print(locations)\n",
        "\n",
        "print(\"\\nOriginal order:\")\n",
        "locations.reverse()\n",
        "print(locations)\n",
        "\n",
        "print(\"\\nAlphabetical\")\n",
        "locations.sort()\n",
        "print(locations)\n",
        "\n",
        "print(\"\\nReverse alphabetical\")\n",
        "locations.sort(reverse=True)\n",
        "print(locations)\n",
        "\n"
      ],
      "metadata": {
        "colab": {
          "base_uri": "https://localhost:8080/"
        },
        "id": "XJ5LdhNLBst_",
        "outputId": "c83f5bbf-49a4-4842-d3b9-cfe9ead47120"
      },
      "execution_count": 5,
      "outputs": [
        {
          "output_type": "stream",
          "name": "stdout",
          "text": [
            "Original order:\n",
            "['Korea', 'Japan', 'New Zealand', 'Australia', 'Sweden']\n",
            "\n",
            "Alphabetical:\n",
            "['Australia', 'Japan', 'Korea', 'New Zealand', 'Sweden']\n",
            "\n",
            "Original order:\n",
            "['Korea', 'Japan', 'New Zealand', 'Australia', 'Sweden']\n",
            "\n",
            "Reverse alphabetical:\n",
            "['Sweden', 'New Zealand', 'Korea', 'Japan', 'Australia']\n",
            "\n",
            "Original order:\n",
            "['Korea', 'Japan', 'New Zealand', 'Australia', 'Sweden']\n",
            "\n",
            "Reversed:\n",
            "['Sweden', 'Australia', 'New Zealand', 'Japan', 'Korea']\n",
            "\n",
            "Original order:\n",
            "['Korea', 'Japan', 'New Zealand', 'Australia', 'Sweden']\n",
            "\n",
            "Alphabetical\n",
            "['Australia', 'Japan', 'Korea', 'New Zealand', 'Sweden']\n",
            "\n",
            "Reverse alphabetical\n",
            "['Sweden', 'New Zealand', 'Korea', 'Japan', 'Australia']\n"
          ]
        }
      ]
    }
  ]
}