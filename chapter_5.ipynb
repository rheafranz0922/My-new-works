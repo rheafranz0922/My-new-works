{
  "nbformat": 4,
  "nbformat_minor": 0,
  "metadata": {
    "colab": {
      "provenance": [],
      "collapsed_sections": [],
      "authorship_tag": "ABX9TyNE2Hl09LL+yMLCAyUam15v",
      "include_colab_link": true
    },
    "kernelspec": {
      "name": "python3",
      "display_name": "Python 3"
    },
    "language_info": {
      "name": "python"
    }
  },
  "cells": [
    {
      "cell_type": "markdown",
      "metadata": {
        "id": "view-in-github",
        "colab_type": "text"
      },
      "source": [
        "<a href=\"https://colab.research.google.com/github/rheafranz0922/My-new-works/blob/main/chapter_5.ipynb\" target=\"_parent\"><img src=\"https://colab.research.google.com/assets/colab-badge.svg\" alt=\"Open In Colab\"/></a>"
      ]
    },
    {
      "cell_type": "markdown",
      "source": [
        " Exercise 1: Person \n",
        "\n",
        " Use a dictionary to store information about a person you know.Store their first name, last name, age, and the city in which they live. You\n",
        "\n",
        "should have keys such as first_name, last_name, age, and city. Print each piece of information stored in your dictionary."
      ],
      "metadata": {
        "id": "Gcjhu9EqPIhK"
      }
    },
    {
      "cell_type": "code",
      "source": [
        "# Use the dictionary to store the information about the person like names, age, and the city where they live.\n",
        "person = {'first_name': 'Rhea','last_name': 'Juaniza','age': 19,'city': 'Dubai'}\n",
        "\n",
        "print(person['first_name'])\n",
        "print(person['last_name'])\n",
        "print(person['age'])\n",
        "print(person['city'])"
      ],
      "metadata": {
        "colab": {
          "base_uri": "https://localhost:8080/"
        },
        "id": "MJ-wq0dCPNl2",
        "outputId": "06b83ea4-2bea-4df5-8ab5-85a80268e41a"
      },
      "execution_count": 2,
      "outputs": [
        {
          "output_type": "stream",
          "name": "stdout",
          "text": [
            "Rhea\n",
            "Juaniza\n",
            "19\n",
            "Dubai\n"
          ]
        }
      ]
    },
    {
      "cell_type": "markdown",
      "source": [
        " Exercise 2: Glossary\n",
        "\n",
        " A Python dictionary can be used to model an actual dictionary. However, to avoid confusion, let’s call it a glossary.\n",
        "\n",
        "* Think of five programming words you’ve learned about in the previous chapters. Use these words as the keys in your glossary, and store \n",
        "\n",
        "their meanings as values.\n",
        "\n",
        "* Print each word and its meaning as neatly formatted output. You might print the word followed by a colon and then its meaning, or print \n",
        "\n",
        "the word on one line and then print its meaning indented on a second line. Use the newline character (\\n) to insert a blank line between "
      ],
      "metadata": {
        "id": "5E1QMlfXRe3C"
      }
    },
    {
      "cell_type": "code",
      "source": [
        "# Learning the python dictionary words and the keys in your glossary or the meanings.\n",
        "\n",
        "glossary = {\n",
        "    'print': 'To print objects to the text stream file, seperated by step and followed by end.',\n",
        "    'elif': 'Short for else if, is used to excecute a continuous chain of conditional logic ladder.',\n",
        "    'list': 'A collection of items in a particular order.',\n",
        "    'loop': 'Work through a collection of items, one at a time.',\n",
        "    'pop': 'In the dictionary, removes it and returns its value, else returns to default.',\n",
        "    }\n",
        "word = 'print'\n",
        "print(\"\\n\" + word.title() + \": \" + glossary[word])\n",
        "\n",
        "word = 'elif'\n",
        "print(\"\\n\" + word.title() + \": \" + glossary[word])\n",
        "\n",
        "word = 'list'\n",
        "print(\"\\n\" + word.title() + \": \" + glossary[word])\n",
        "\n",
        "word = 'loop'\n",
        "print(\"\\n\" + word.title() + \": \" + glossary[word])\n",
        "\n",
        "word = 'pop'\n",
        "print(\"\\n\" + word.title() + \": \" + glossary[word])"
      ],
      "metadata": {
        "id": "NHwWMXt-R0Yq",
        "colab": {
          "base_uri": "https://localhost:8080/"
        },
        "outputId": "c6cab6cc-8cbd-4358-e5e1-08e40082115e"
      },
      "execution_count": 4,
      "outputs": [
        {
          "output_type": "stream",
          "name": "stdout",
          "text": [
            "\n",
            "Print: To print objects to the text stream file, seperated by step and followed by end.\n",
            "\n",
            "Elif: Short for else if, is used to excecute a continuous chain of conditional logic ladder.\n",
            "\n",
            "List: A collection of items in a particular order.\n",
            "\n",
            "Loop: Work through a collection of items, one at a time.\n",
            "\n",
            "Pop: In the dictionary, removes it and returns its value, else returns to default.\n"
          ]
        }
      ]
    },
    {
      "cell_type": "markdown",
      "source": [
        "Exercise 3: Glossary 2 \n",
        "\n",
        "Now that you know how to loop through a dictionary, clean up the code from Exercise 6-3 (page 99) by replacing your series of print()\n",
        "\n",
        "calls with a loop that runs through the dictionary’s keys and values. When you’re sure that your loop works, add five more Python terms \n",
        "\n",
        "to your glossary.When you run your program again, these new words and meanings should automatically be included in the output."
      ],
      "metadata": {
        "id": "YbGbxZ6h7P9h"
      }
    },
    {
      "cell_type": "code",
      "source": [
        "# Making a glossary for some words and definitions.\n",
        "\n",
        "glossary = {\n",
        "    'string': 'A series of characters.',\n",
        "    'comment': 'A note in a program that the Python interpreter ignores.',\n",
        "    'list': 'A collection of items in a particular order.',\n",
        "    'insert': 'Inserts a given element at a given index in a list using Python.',\n",
        "    'dictionary': \"A collection of key-value pairs.\",\n",
        "    'key': 'The first item in a key-value pair in a dictionary.',\n",
        "    'value': 'An item associated with a key in a dictionary.',\n",
        "    'descriptor': 'A class attribute special binding behavior is triggered upon attribute lookup when its a descriptor .',\n",
        "    'float': 'A numerical value with a decimal component.',\n",
        "    'boolean expression': 'An expression that evaluates to True or False.',\n",
        "    }\n",
        "\n",
        "for word, definition in glossary.items():\n",
        "    print(\"\\n\" + word.title() + \": \" + definition)"
      ],
      "metadata": {
        "colab": {
          "base_uri": "https://localhost:8080/"
        },
        "id": "V2bvxJj0A8g_",
        "outputId": "33414031-d024-4eb4-8fc5-cd312df0cbd6"
      },
      "execution_count": 5,
      "outputs": [
        {
          "output_type": "stream",
          "name": "stdout",
          "text": [
            "\n",
            "String: A series of characters.\n",
            "\n",
            "Comment: A note in a program that the Python interpreter ignores.\n",
            "\n",
            "List: A collection of items in a particular order.\n",
            "\n",
            "Insert: Inserts a given element at a given index in a list using Python.\n",
            "\n",
            "Dictionary: A collection of key-value pairs.\n",
            "\n",
            "Key: The first item in a key-value pair in a dictionary.\n",
            "\n",
            "Value: An item associated with a key in a dictionary.\n",
            "\n",
            "Descriptor: A class attribute special binding behavior is triggered upon attribute lookup when its a descriptor .\n",
            "\n",
            "Float: A numerical value with a decimal component.\n",
            "\n",
            "Boolean Expression: An expression that evaluates to True or False.\n"
          ]
        }
      ]
    },
    {
      "cell_type": "markdown",
      "source": [
        "Exercise 4: Rivers :ballot_box_with_check:\n",
        "\n",
        "Make a dictionary containing three major rivers and the country each river runs through. One key-value pair might be 'nile': 'egypt'.\n",
        "\n",
        "* Use a loop to print a sentence about each river, such as The Nile runs through Egypt.\n",
        "\n",
        "* Use a loop to print the name of each river included in the dictionary.\n",
        "\n",
        "* Use a loop to print the name of each country included in the dictionary.\n"
      ],
      "metadata": {
        "id": "WT53t4EhCWHp"
      }
    },
    {
      "cell_type": "code",
      "source": [
        "# This is my list about the river from the country.\n",
        "rivers = {\n",
        "    'nile': 'egypt',\n",
        "    'ravi': 'pakistan',\n",
        "    'pasig': 'philippines',\n",
        "    'han': 'korea',\n",
        "    'yangtze': 'china',\n",
        "    }\n",
        "\n",
        "for river, country in rivers.items():\n",
        "    print(\"The \" + river.title() + \" flows through \" + country.title() + \".\")\n",
        "\n",
        "print(\"\\nThe following rivers are included in this data set:\")\n",
        "for river in rivers.keys():\n",
        "    print(\"- \" + river.title())\n",
        "\n",
        "print(\"\\nThe following countries are included in this data set:\")\n",
        "for country in rivers.values():\n",
        "    print(\"- \" + country.title())"
      ],
      "metadata": {
        "colab": {
          "base_uri": "https://localhost:8080/"
        },
        "id": "S6lcuiGhH5_r",
        "outputId": "f8468deb-e128-4e19-bfb2-c5f6e36e5931"
      },
      "execution_count": 6,
      "outputs": [
        {
          "output_type": "stream",
          "name": "stdout",
          "text": [
            "The Nile flows through Egypt.\n",
            "The Ravi flows through Pakistan.\n",
            "The Pasig flows through Philippines.\n",
            "The Han flows through Korea.\n",
            "The Yangtze flows through China.\n",
            "\n",
            "The following rivers are included in this data set:\n",
            "- Nile\n",
            "- Ravi\n",
            "- Pasig\n",
            "- Han\n",
            "- Yangtze\n",
            "\n",
            "The following countries are included in this data set:\n",
            "- Egypt\n",
            "- Pakistan\n",
            "- Philippines\n",
            "- Korea\n",
            "- China\n"
          ]
        }
      ]
    },
    {
      "cell_type": "markdown",
      "source": [
        "Exercise 5: Pets \n",
        "Make several dictionaries, where each dictionary represents a different pet. In each dictionary, include the kind of animal and the\n",
        "\n",
        "owner’s name. Store these dictionaries in a list called pets. Next, loop through your list and asyou do, print everything you know about \n",
        "\n",
        "each pet"
      ],
      "metadata": {
        "id": "gnWvgjLZIgvh"
      }
    },
    {
      "cell_type": "code",
      "source": [
        "# Make an empty list to store the pets in.\n",
        "pets = []\n",
        "\n",
        "# Make individual pets, and store each one in the list.\n",
        "pet = {\n",
        "    'animal type': 'bunny',\n",
        "    'name': 'bacon',\n",
        "    'owner': 'kei',\n",
        "    'weight': 43,\n",
        "    'eats': 'carrots',\n",
        "}\n",
        "pets.append(pet)\n",
        "\n",
        "pet = {\n",
        "    'animal type': 'Dog',\n",
        "    'name': 'red or ted',\n",
        "    'owner': 'franz',\n",
        "    'weight': 5,\n",
        "    'eats': 'vegetables',\n",
        "}\n",
        "pets.append(pet)\n",
        "\n",
        "pet = {\n",
        "    'animal type': 'dog',\n",
        "    'name': 'daniel',\n",
        "    'owner': 'anjo',\n",
        "    'weight': 120,\n",
        "    'eats': 'shoes',\n",
        "}\n",
        "pets.append(pet)\n",
        "\n",
        "# Display information about each pet.\n",
        "for pet in pets:\n",
        "    print(\"\\nHere's what I know about \" + pet['name'].title() + \":\")\n",
        "    for key, value in pet.items():\n",
        "        print(\"\\t\" + key + \": \" + str(value))"
      ],
      "metadata": {
        "colab": {
          "base_uri": "https://localhost:8080/"
        },
        "id": "k4156_W5I-FD",
        "outputId": "8ce7f611-36a1-4f3d-917a-ff81ba86fb64"
      },
      "execution_count": null,
      "outputs": [
        {
          "output_type": "stream",
          "name": "stdout",
          "text": [
            "\n",
            "Here's what I know about Bacon:\n",
            "\tanimal type: bunny\n",
            "\tname: bacon\n",
            "\towner: kei\n",
            "\tweight: 43\n",
            "\teats: carrots\n",
            "\n",
            "Here's what I know about Red Or Ted:\n",
            "\tanimal type: Dog\n",
            "\tname: red or ted\n",
            "\towner: franz\n",
            "\tweight: 5\n",
            "\teats: vegetables\n",
            "\n",
            "Here's what I know about Daniel:\n",
            "\tanimal type: dog\n",
            "\tname: daniel\n",
            "\towner: anjo\n",
            "\tweight: 120\n",
            "\teats: shoes\n"
          ]
        }
      ]
    }
  ]
}